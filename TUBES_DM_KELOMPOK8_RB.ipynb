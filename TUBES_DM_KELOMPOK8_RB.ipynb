{
  "nbformat": 4,
  "nbformat_minor": 0,
  "metadata": {
    "colab": {
      "provenance": [],
      "collapsed_sections": [
        "AJiy1K8JNhI_",
        "e26P2ZSs8Dib",
        "Y41P97SW-yd4"
      ]
    },
    "kernelspec": {
      "name": "python3",
      "display_name": "Python 3"
    },
    "language_info": {
      "name": "python"
    }
  },
  "cells": [
    {
      "cell_type": "markdown",
      "source": [
        "# **KLasifikasi Biji Kismis Menggunakan Metode Support-Vector Machine (SVM)**"
      ],
      "metadata": {
        "id": "AJiy1K8JNhI_"
      }
    },
    {
      "cell_type": "markdown",
      "source": [
        "**Data Mining (RB)**\n",
        "\n",
        "**Kelompok 8**\n",
        "\n",
        "*  Arfyani Deiastuti (120450006)\n",
        "*  Alpina Damayanti (120450054)\n",
        "*  Bintang Annisa Maharani (120450002)\n",
        "*  Hanna Septiani (120450064)"
      ],
      "metadata": {
        "id": "RxU9jviD14gZ"
      }
    },
    {
      "cell_type": "markdown",
      "source": [
        "**Informasi Kumpulan Data:**\n",
        "\n",
        "Gambar varietas kismis Kecimen dan Besni yang ditanam di Turki diperoleh dengan CVS. Sebanyak 900 butir kismis digunakan, termasuk 450 butir dari kedua varietas. Gambar-gambar ini menjadi sasaran berbagai tahap pra-pemrosesan dan 7 fitur morfologi diekstraksi. Fitur-fitur ini telah diklasifikasikan menggunakan tiga teknik kecerdasan buatan yang berbeda.\n",
        "\n",
        "\n",
        "**Informasi Atribut:**\n",
        "\n",
        "*  Area: Memberikan jumlah piksel dalam batas kismis.\n",
        "*  Perimeter: Ini mengukur lingkungan dengan menghitung jarak antara batas kismis dan piksel di sekitarnya.\n",
        "*  MajorAxisLength: Memberikan panjang sumbu utama, yang merupakan garis terpanjang yang dapat ditarik pada kismis.\n",
        "*  MinorAxisLength: Memberikan panjang sumbu kecil, yang merupakan garis terpendek yang dapat ditarik pada kismis.\n",
        "*  Eksentrisitas: Ini memberikan ukuran eksentrisitas elips, yang memiliki momen yang sama dengan kismis.\n",
        "*  Area Cembung: Memberikan jumlah piksel kulit cembung terkecil dari wilayah yang dibentuk oleh kismis.\n",
        "*  Luas: Memberikan rasio wilayah yang dibentuk oleh kismis dengan total piksel dalam kotak pembatas.\n",
        "*  Kelas: Kecimen dan Besni kismis."
      ],
      "metadata": {
        "id": "GijftgvBMTN_"
      }
    },
    {
      "cell_type": "markdown",
      "source": [
        "**Kita memulai pemrograman dengan memanggil package yang diperlukan seperti Pandas dan Numpy.**"
      ],
      "metadata": {
        "id": "Z4LUzUhLOfq3"
      }
    },
    {
      "cell_type": "code",
      "source": [
        "# Libraries\n",
        "import numpy as np\n",
        "import pandas as pd\n",
        "import matplotlib.pyplot as plt\n",
        "\n",
        "# visualisasi\n",
        "import seaborn as sns\n",
        "import matplotlib.pyplot as plt\n",
        "%matplotlib inline\n",
        "\n",
        "# SVM libraries\n",
        "from sklearn.preprocessing import StandardScaler\n",
        "from sklearn.model_selection import train_test_split\n",
        "from sklearn.svm import SVC, SVR\n",
        "from sklearn.datasets import load_digits\n",
        "from sklearn.metrics import classification_report"
      ],
      "metadata": {
        "id": "w9NPhHQMcn9y"
      },
      "execution_count": null,
      "outputs": []
    },
    {
      "cell_type": "markdown",
      "source": [
        "**Load the Dataset**"
      ],
      "metadata": {
        "id": "UfdFDH1H76r-"
      }
    },
    {
      "cell_type": "code",
      "source": [
        "url='https://docs.google.com/spreadsheets/d/1qEem2gri7s3RlhECTDPmAen-Do4CGx2d/edit?usp=share_link&ouid=104094809367657023187&rtpof=true&sd=true'\n",
        "url='https://drive.google.com/uc?id=' + url.split('/')[-2]\n",
        "data = pd.read_excel(url)"
      ],
      "metadata": {
        "id": "f3ysxOzuxWXv"
      },
      "execution_count": null,
      "outputs": []
    },
    {
      "cell_type": "code",
      "source": [
        "data.shape"
      ],
      "metadata": {
        "id": "XdJSrBqd79ur",
        "colab": {
          "base_uri": "https://localhost:8080/"
        },
        "outputId": "94866839-a02c-4a41-8ac7-f23234bd9e64"
      },
      "execution_count": null,
      "outputs": [
        {
          "output_type": "execute_result",
          "data": {
            "text/plain": [
              "(900, 8)"
            ]
          },
          "metadata": {},
          "execution_count": 37
        }
      ]
    },
    {
      "cell_type": "markdown",
      "source": [
        "# **Data Cleaning and Exploratory Data Analysis**"
      ],
      "metadata": {
        "id": "e26P2ZSs8Dib"
      }
    },
    {
      "cell_type": "code",
      "source": [
        "data.head()"
      ],
      "metadata": {
        "id": "yfrSZewc8HXd",
        "colab": {
          "base_uri": "https://localhost:8080/"
        },
        "outputId": "c5f3bbea-398f-4252-e428-67ac2a425d0a"
      },
      "execution_count": null,
      "outputs": [
        {
          "output_type": "execute_result",
          "data": {
            "text/plain": [
              "    Area  MajorAxisLength  MinorAxisLength  Eccentricity  ConvexArea  \\\n",
              "0  87524       442.246011       253.291155      0.819738       90546   \n",
              "1  75166       406.690687       243.032436      0.801805       78789   \n",
              "2  90856       442.267048       266.328318      0.798354       93717   \n",
              "3  45928       286.540559       208.760042      0.684989       47336   \n",
              "4  79408       352.190770       290.827533      0.564011       81463   \n",
              "\n",
              "     Extent  Perimeter    Class  \n",
              "0  0.758651   1184.040  Kecimen  \n",
              "1  0.684130   1121.786  Kecimen  \n",
              "2  0.637613   1208.575  Kecimen  \n",
              "3  0.699599    844.162  Kecimen  \n",
              "4  0.792772   1073.251  Kecimen  "
            ],
            "text/html": [
              "\n",
              "  <div id=\"df-e23c2500-2a8c-41a8-a9af-2b856fe6fc13\">\n",
              "    <div class=\"colab-df-container\">\n",
              "      <div>\n",
              "<style scoped>\n",
              "    .dataframe tbody tr th:only-of-type {\n",
              "        vertical-align: middle;\n",
              "    }\n",
              "\n",
              "    .dataframe tbody tr th {\n",
              "        vertical-align: top;\n",
              "    }\n",
              "\n",
              "    .dataframe thead th {\n",
              "        text-align: right;\n",
              "    }\n",
              "</style>\n",
              "<table border=\"1\" class=\"dataframe\">\n",
              "  <thead>\n",
              "    <tr style=\"text-align: right;\">\n",
              "      <th></th>\n",
              "      <th>Area</th>\n",
              "      <th>MajorAxisLength</th>\n",
              "      <th>MinorAxisLength</th>\n",
              "      <th>Eccentricity</th>\n",
              "      <th>ConvexArea</th>\n",
              "      <th>Extent</th>\n",
              "      <th>Perimeter</th>\n",
              "      <th>Class</th>\n",
              "    </tr>\n",
              "  </thead>\n",
              "  <tbody>\n",
              "    <tr>\n",
              "      <th>0</th>\n",
              "      <td>87524</td>\n",
              "      <td>442.246011</td>\n",
              "      <td>253.291155</td>\n",
              "      <td>0.819738</td>\n",
              "      <td>90546</td>\n",
              "      <td>0.758651</td>\n",
              "      <td>1184.040</td>\n",
              "      <td>Kecimen</td>\n",
              "    </tr>\n",
              "    <tr>\n",
              "      <th>1</th>\n",
              "      <td>75166</td>\n",
              "      <td>406.690687</td>\n",
              "      <td>243.032436</td>\n",
              "      <td>0.801805</td>\n",
              "      <td>78789</td>\n",
              "      <td>0.684130</td>\n",
              "      <td>1121.786</td>\n",
              "      <td>Kecimen</td>\n",
              "    </tr>\n",
              "    <tr>\n",
              "      <th>2</th>\n",
              "      <td>90856</td>\n",
              "      <td>442.267048</td>\n",
              "      <td>266.328318</td>\n",
              "      <td>0.798354</td>\n",
              "      <td>93717</td>\n",
              "      <td>0.637613</td>\n",
              "      <td>1208.575</td>\n",
              "      <td>Kecimen</td>\n",
              "    </tr>\n",
              "    <tr>\n",
              "      <th>3</th>\n",
              "      <td>45928</td>\n",
              "      <td>286.540559</td>\n",
              "      <td>208.760042</td>\n",
              "      <td>0.684989</td>\n",
              "      <td>47336</td>\n",
              "      <td>0.699599</td>\n",
              "      <td>844.162</td>\n",
              "      <td>Kecimen</td>\n",
              "    </tr>\n",
              "    <tr>\n",
              "      <th>4</th>\n",
              "      <td>79408</td>\n",
              "      <td>352.190770</td>\n",
              "      <td>290.827533</td>\n",
              "      <td>0.564011</td>\n",
              "      <td>81463</td>\n",
              "      <td>0.792772</td>\n",
              "      <td>1073.251</td>\n",
              "      <td>Kecimen</td>\n",
              "    </tr>\n",
              "  </tbody>\n",
              "</table>\n",
              "</div>\n",
              "      <button class=\"colab-df-convert\" onclick=\"convertToInteractive('df-e23c2500-2a8c-41a8-a9af-2b856fe6fc13')\"\n",
              "              title=\"Convert this dataframe to an interactive table.\"\n",
              "              style=\"display:none;\">\n",
              "        \n",
              "  <svg xmlns=\"http://www.w3.org/2000/svg\" height=\"24px\"viewBox=\"0 0 24 24\"\n",
              "       width=\"24px\">\n",
              "    <path d=\"M0 0h24v24H0V0z\" fill=\"none\"/>\n",
              "    <path d=\"M18.56 5.44l.94 2.06.94-2.06 2.06-.94-2.06-.94-.94-2.06-.94 2.06-2.06.94zm-11 1L8.5 8.5l.94-2.06 2.06-.94-2.06-.94L8.5 2.5l-.94 2.06-2.06.94zm10 10l.94 2.06.94-2.06 2.06-.94-2.06-.94-.94-2.06-.94 2.06-2.06.94z\"/><path d=\"M17.41 7.96l-1.37-1.37c-.4-.4-.92-.59-1.43-.59-.52 0-1.04.2-1.43.59L10.3 9.45l-7.72 7.72c-.78.78-.78 2.05 0 2.83L4 21.41c.39.39.9.59 1.41.59.51 0 1.02-.2 1.41-.59l7.78-7.78 2.81-2.81c.8-.78.8-2.07 0-2.86zM5.41 20L4 18.59l7.72-7.72 1.47 1.35L5.41 20z\"/>\n",
              "  </svg>\n",
              "      </button>\n",
              "      \n",
              "  <style>\n",
              "    .colab-df-container {\n",
              "      display:flex;\n",
              "      flex-wrap:wrap;\n",
              "      gap: 12px;\n",
              "    }\n",
              "\n",
              "    .colab-df-convert {\n",
              "      background-color: #E8F0FE;\n",
              "      border: none;\n",
              "      border-radius: 50%;\n",
              "      cursor: pointer;\n",
              "      display: none;\n",
              "      fill: #1967D2;\n",
              "      height: 32px;\n",
              "      padding: 0 0 0 0;\n",
              "      width: 32px;\n",
              "    }\n",
              "\n",
              "    .colab-df-convert:hover {\n",
              "      background-color: #E2EBFA;\n",
              "      box-shadow: 0px 1px 2px rgba(60, 64, 67, 0.3), 0px 1px 3px 1px rgba(60, 64, 67, 0.15);\n",
              "      fill: #174EA6;\n",
              "    }\n",
              "\n",
              "    [theme=dark] .colab-df-convert {\n",
              "      background-color: #3B4455;\n",
              "      fill: #D2E3FC;\n",
              "    }\n",
              "\n",
              "    [theme=dark] .colab-df-convert:hover {\n",
              "      background-color: #434B5C;\n",
              "      box-shadow: 0px 1px 3px 1px rgba(0, 0, 0, 0.15);\n",
              "      filter: drop-shadow(0px 1px 2px rgba(0, 0, 0, 0.3));\n",
              "      fill: #FFFFFF;\n",
              "    }\n",
              "  </style>\n",
              "\n",
              "      <script>\n",
              "        const buttonEl =\n",
              "          document.querySelector('#df-e23c2500-2a8c-41a8-a9af-2b856fe6fc13 button.colab-df-convert');\n",
              "        buttonEl.style.display =\n",
              "          google.colab.kernel.accessAllowed ? 'block' : 'none';\n",
              "\n",
              "        async function convertToInteractive(key) {\n",
              "          const element = document.querySelector('#df-e23c2500-2a8c-41a8-a9af-2b856fe6fc13');\n",
              "          const dataTable =\n",
              "            await google.colab.kernel.invokeFunction('convertToInteractive',\n",
              "                                                     [key], {});\n",
              "          if (!dataTable) return;\n",
              "\n",
              "          const docLinkHtml = 'Like what you see? Visit the ' +\n",
              "            '<a target=\"_blank\" href=https://colab.research.google.com/notebooks/data_table.ipynb>data table notebook</a>'\n",
              "            + ' to learn more about interactive tables.';\n",
              "          element.innerHTML = '';\n",
              "          dataTable['output_type'] = 'display_data';\n",
              "          await google.colab.output.renderOutput(dataTable, element);\n",
              "          const docLink = document.createElement('div');\n",
              "          docLink.innerHTML = docLinkHtml;\n",
              "          element.appendChild(docLink);\n",
              "        }\n",
              "      </script>\n",
              "    </div>\n",
              "  </div>\n",
              "  "
            ]
          },
          "metadata": {},
          "execution_count": 38
        }
      ]
    },
    {
      "cell_type": "code",
      "source": [
        "data.describe()"
      ],
      "metadata": {
        "colab": {
          "base_uri": "https://localhost:8080/"
        },
        "id": "DS1o9uy25b90",
        "outputId": "6a18df72-fb86-4ba1-cf4d-75336333d7e3"
      },
      "execution_count": null,
      "outputs": [
        {
          "output_type": "execute_result",
          "data": {
            "text/plain": [
              "                Area  MajorAxisLength  MinorAxisLength  Eccentricity  \\\n",
              "count     900.000000       900.000000       900.000000    900.000000   \n",
              "mean    87804.127778       430.929950       254.488133      0.781542   \n",
              "std     39002.111390       116.035121        49.988902      0.090318   \n",
              "min     25387.000000       225.629541       143.710872      0.348730   \n",
              "25%     59348.000000       345.442898       219.111126      0.741766   \n",
              "50%     78902.000000       407.803951       247.848409      0.798846   \n",
              "75%    105028.250000       494.187014       279.888575      0.842571   \n",
              "max    235047.000000       997.291941       492.275279      0.962124   \n",
              "\n",
              "          ConvexArea      Extent    Perimeter  \n",
              "count     900.000000  900.000000   900.000000  \n",
              "mean    91186.090000    0.699508  1165.906636  \n",
              "std     40769.290132    0.053468   273.764315  \n",
              "min     26139.000000    0.379856   619.074000  \n",
              "25%     61513.250000    0.670869   966.410750  \n",
              "50%     81651.000000    0.707367  1119.509000  \n",
              "75%    108375.750000    0.734991  1308.389750  \n",
              "max    278217.000000    0.835455  2697.753000  "
            ],
            "text/html": [
              "\n",
              "  <div id=\"df-102d98de-be69-4b94-a70a-77c7f63d4f05\">\n",
              "    <div class=\"colab-df-container\">\n",
              "      <div>\n",
              "<style scoped>\n",
              "    .dataframe tbody tr th:only-of-type {\n",
              "        vertical-align: middle;\n",
              "    }\n",
              "\n",
              "    .dataframe tbody tr th {\n",
              "        vertical-align: top;\n",
              "    }\n",
              "\n",
              "    .dataframe thead th {\n",
              "        text-align: right;\n",
              "    }\n",
              "</style>\n",
              "<table border=\"1\" class=\"dataframe\">\n",
              "  <thead>\n",
              "    <tr style=\"text-align: right;\">\n",
              "      <th></th>\n",
              "      <th>Area</th>\n",
              "      <th>MajorAxisLength</th>\n",
              "      <th>MinorAxisLength</th>\n",
              "      <th>Eccentricity</th>\n",
              "      <th>ConvexArea</th>\n",
              "      <th>Extent</th>\n",
              "      <th>Perimeter</th>\n",
              "    </tr>\n",
              "  </thead>\n",
              "  <tbody>\n",
              "    <tr>\n",
              "      <th>count</th>\n",
              "      <td>900.000000</td>\n",
              "      <td>900.000000</td>\n",
              "      <td>900.000000</td>\n",
              "      <td>900.000000</td>\n",
              "      <td>900.000000</td>\n",
              "      <td>900.000000</td>\n",
              "      <td>900.000000</td>\n",
              "    </tr>\n",
              "    <tr>\n",
              "      <th>mean</th>\n",
              "      <td>87804.127778</td>\n",
              "      <td>430.929950</td>\n",
              "      <td>254.488133</td>\n",
              "      <td>0.781542</td>\n",
              "      <td>91186.090000</td>\n",
              "      <td>0.699508</td>\n",
              "      <td>1165.906636</td>\n",
              "    </tr>\n",
              "    <tr>\n",
              "      <th>std</th>\n",
              "      <td>39002.111390</td>\n",
              "      <td>116.035121</td>\n",
              "      <td>49.988902</td>\n",
              "      <td>0.090318</td>\n",
              "      <td>40769.290132</td>\n",
              "      <td>0.053468</td>\n",
              "      <td>273.764315</td>\n",
              "    </tr>\n",
              "    <tr>\n",
              "      <th>min</th>\n",
              "      <td>25387.000000</td>\n",
              "      <td>225.629541</td>\n",
              "      <td>143.710872</td>\n",
              "      <td>0.348730</td>\n",
              "      <td>26139.000000</td>\n",
              "      <td>0.379856</td>\n",
              "      <td>619.074000</td>\n",
              "    </tr>\n",
              "    <tr>\n",
              "      <th>25%</th>\n",
              "      <td>59348.000000</td>\n",
              "      <td>345.442898</td>\n",
              "      <td>219.111126</td>\n",
              "      <td>0.741766</td>\n",
              "      <td>61513.250000</td>\n",
              "      <td>0.670869</td>\n",
              "      <td>966.410750</td>\n",
              "    </tr>\n",
              "    <tr>\n",
              "      <th>50%</th>\n",
              "      <td>78902.000000</td>\n",
              "      <td>407.803951</td>\n",
              "      <td>247.848409</td>\n",
              "      <td>0.798846</td>\n",
              "      <td>81651.000000</td>\n",
              "      <td>0.707367</td>\n",
              "      <td>1119.509000</td>\n",
              "    </tr>\n",
              "    <tr>\n",
              "      <th>75%</th>\n",
              "      <td>105028.250000</td>\n",
              "      <td>494.187014</td>\n",
              "      <td>279.888575</td>\n",
              "      <td>0.842571</td>\n",
              "      <td>108375.750000</td>\n",
              "      <td>0.734991</td>\n",
              "      <td>1308.389750</td>\n",
              "    </tr>\n",
              "    <tr>\n",
              "      <th>max</th>\n",
              "      <td>235047.000000</td>\n",
              "      <td>997.291941</td>\n",
              "      <td>492.275279</td>\n",
              "      <td>0.962124</td>\n",
              "      <td>278217.000000</td>\n",
              "      <td>0.835455</td>\n",
              "      <td>2697.753000</td>\n",
              "    </tr>\n",
              "  </tbody>\n",
              "</table>\n",
              "</div>\n",
              "      <button class=\"colab-df-convert\" onclick=\"convertToInteractive('df-102d98de-be69-4b94-a70a-77c7f63d4f05')\"\n",
              "              title=\"Convert this dataframe to an interactive table.\"\n",
              "              style=\"display:none;\">\n",
              "        \n",
              "  <svg xmlns=\"http://www.w3.org/2000/svg\" height=\"24px\"viewBox=\"0 0 24 24\"\n",
              "       width=\"24px\">\n",
              "    <path d=\"M0 0h24v24H0V0z\" fill=\"none\"/>\n",
              "    <path d=\"M18.56 5.44l.94 2.06.94-2.06 2.06-.94-2.06-.94-.94-2.06-.94 2.06-2.06.94zm-11 1L8.5 8.5l.94-2.06 2.06-.94-2.06-.94L8.5 2.5l-.94 2.06-2.06.94zm10 10l.94 2.06.94-2.06 2.06-.94-2.06-.94-.94-2.06-.94 2.06-2.06.94z\"/><path d=\"M17.41 7.96l-1.37-1.37c-.4-.4-.92-.59-1.43-.59-.52 0-1.04.2-1.43.59L10.3 9.45l-7.72 7.72c-.78.78-.78 2.05 0 2.83L4 21.41c.39.39.9.59 1.41.59.51 0 1.02-.2 1.41-.59l7.78-7.78 2.81-2.81c.8-.78.8-2.07 0-2.86zM5.41 20L4 18.59l7.72-7.72 1.47 1.35L5.41 20z\"/>\n",
              "  </svg>\n",
              "      </button>\n",
              "      \n",
              "  <style>\n",
              "    .colab-df-container {\n",
              "      display:flex;\n",
              "      flex-wrap:wrap;\n",
              "      gap: 12px;\n",
              "    }\n",
              "\n",
              "    .colab-df-convert {\n",
              "      background-color: #E8F0FE;\n",
              "      border: none;\n",
              "      border-radius: 50%;\n",
              "      cursor: pointer;\n",
              "      display: none;\n",
              "      fill: #1967D2;\n",
              "      height: 32px;\n",
              "      padding: 0 0 0 0;\n",
              "      width: 32px;\n",
              "    }\n",
              "\n",
              "    .colab-df-convert:hover {\n",
              "      background-color: #E2EBFA;\n",
              "      box-shadow: 0px 1px 2px rgba(60, 64, 67, 0.3), 0px 1px 3px 1px rgba(60, 64, 67, 0.15);\n",
              "      fill: #174EA6;\n",
              "    }\n",
              "\n",
              "    [theme=dark] .colab-df-convert {\n",
              "      background-color: #3B4455;\n",
              "      fill: #D2E3FC;\n",
              "    }\n",
              "\n",
              "    [theme=dark] .colab-df-convert:hover {\n",
              "      background-color: #434B5C;\n",
              "      box-shadow: 0px 1px 3px 1px rgba(0, 0, 0, 0.15);\n",
              "      filter: drop-shadow(0px 1px 2px rgba(0, 0, 0, 0.3));\n",
              "      fill: #FFFFFF;\n",
              "    }\n",
              "  </style>\n",
              "\n",
              "      <script>\n",
              "        const buttonEl =\n",
              "          document.querySelector('#df-102d98de-be69-4b94-a70a-77c7f63d4f05 button.colab-df-convert');\n",
              "        buttonEl.style.display =\n",
              "          google.colab.kernel.accessAllowed ? 'block' : 'none';\n",
              "\n",
              "        async function convertToInteractive(key) {\n",
              "          const element = document.querySelector('#df-102d98de-be69-4b94-a70a-77c7f63d4f05');\n",
              "          const dataTable =\n",
              "            await google.colab.kernel.invokeFunction('convertToInteractive',\n",
              "                                                     [key], {});\n",
              "          if (!dataTable) return;\n",
              "\n",
              "          const docLinkHtml = 'Like what you see? Visit the ' +\n",
              "            '<a target=\"_blank\" href=https://colab.research.google.com/notebooks/data_table.ipynb>data table notebook</a>'\n",
              "            + ' to learn more about interactive tables.';\n",
              "          element.innerHTML = '';\n",
              "          dataTable['output_type'] = 'display_data';\n",
              "          await google.colab.output.renderOutput(dataTable, element);\n",
              "          const docLink = document.createElement('div');\n",
              "          docLink.innerHTML = docLinkHtml;\n",
              "          element.appendChild(docLink);\n",
              "        }\n",
              "      </script>\n",
              "    </div>\n",
              "  </div>\n",
              "  "
            ]
          },
          "metadata": {},
          "execution_count": 39
        }
      ]
    },
    {
      "cell_type": "markdown",
      "source": [
        "**Rename features**"
      ],
      "metadata": {
        "id": "mEgBIqF39VqD"
      }
    },
    {
      "cell_type": "code",
      "source": [
        "data.rename(columns = {\"Area\": \"area\", \"MajorAxisLength\": \"major_axis_length\",\n",
        "                       \"MinorAxisLength\": \"minor_axis_length\",\n",
        "                       \"Eccentricity\": \"eccentricity\", \"ConvexArea\": \"convex_area\",\n",
        "                       \"Extent\": \"extent\", \"Perimeter\": \"perimeter\", \"Class\": \"class\"}, inplace = True)"
      ],
      "metadata": {
        "id": "sHoAZ3M49Q6R"
      },
      "execution_count": null,
      "outputs": []
    },
    {
      "cell_type": "code",
      "source": [
        "data.head()"
      ],
      "metadata": {
        "id": "U9rl52Z-9dPl",
        "colab": {
          "base_uri": "https://localhost:8080/"
        },
        "outputId": "69dfb23a-d2aa-4a8b-c5ab-5cd4c64506e0"
      },
      "execution_count": null,
      "outputs": [
        {
          "output_type": "execute_result",
          "data": {
            "text/plain": [
              "    area  major_axis_length  minor_axis_length  eccentricity  convex_area  \\\n",
              "0  87524         442.246011         253.291155      0.819738        90546   \n",
              "1  75166         406.690687         243.032436      0.801805        78789   \n",
              "2  90856         442.267048         266.328318      0.798354        93717   \n",
              "3  45928         286.540559         208.760042      0.684989        47336   \n",
              "4  79408         352.190770         290.827533      0.564011        81463   \n",
              "\n",
              "     extent  perimeter    class  \n",
              "0  0.758651   1184.040  Kecimen  \n",
              "1  0.684130   1121.786  Kecimen  \n",
              "2  0.637613   1208.575  Kecimen  \n",
              "3  0.699599    844.162  Kecimen  \n",
              "4  0.792772   1073.251  Kecimen  "
            ],
            "text/html": [
              "\n",
              "  <div id=\"df-34040f34-697d-4964-b670-f4cb5dd4a568\">\n",
              "    <div class=\"colab-df-container\">\n",
              "      <div>\n",
              "<style scoped>\n",
              "    .dataframe tbody tr th:only-of-type {\n",
              "        vertical-align: middle;\n",
              "    }\n",
              "\n",
              "    .dataframe tbody tr th {\n",
              "        vertical-align: top;\n",
              "    }\n",
              "\n",
              "    .dataframe thead th {\n",
              "        text-align: right;\n",
              "    }\n",
              "</style>\n",
              "<table border=\"1\" class=\"dataframe\">\n",
              "  <thead>\n",
              "    <tr style=\"text-align: right;\">\n",
              "      <th></th>\n",
              "      <th>area</th>\n",
              "      <th>major_axis_length</th>\n",
              "      <th>minor_axis_length</th>\n",
              "      <th>eccentricity</th>\n",
              "      <th>convex_area</th>\n",
              "      <th>extent</th>\n",
              "      <th>perimeter</th>\n",
              "      <th>class</th>\n",
              "    </tr>\n",
              "  </thead>\n",
              "  <tbody>\n",
              "    <tr>\n",
              "      <th>0</th>\n",
              "      <td>87524</td>\n",
              "      <td>442.246011</td>\n",
              "      <td>253.291155</td>\n",
              "      <td>0.819738</td>\n",
              "      <td>90546</td>\n",
              "      <td>0.758651</td>\n",
              "      <td>1184.040</td>\n",
              "      <td>Kecimen</td>\n",
              "    </tr>\n",
              "    <tr>\n",
              "      <th>1</th>\n",
              "      <td>75166</td>\n",
              "      <td>406.690687</td>\n",
              "      <td>243.032436</td>\n",
              "      <td>0.801805</td>\n",
              "      <td>78789</td>\n",
              "      <td>0.684130</td>\n",
              "      <td>1121.786</td>\n",
              "      <td>Kecimen</td>\n",
              "    </tr>\n",
              "    <tr>\n",
              "      <th>2</th>\n",
              "      <td>90856</td>\n",
              "      <td>442.267048</td>\n",
              "      <td>266.328318</td>\n",
              "      <td>0.798354</td>\n",
              "      <td>93717</td>\n",
              "      <td>0.637613</td>\n",
              "      <td>1208.575</td>\n",
              "      <td>Kecimen</td>\n",
              "    </tr>\n",
              "    <tr>\n",
              "      <th>3</th>\n",
              "      <td>45928</td>\n",
              "      <td>286.540559</td>\n",
              "      <td>208.760042</td>\n",
              "      <td>0.684989</td>\n",
              "      <td>47336</td>\n",
              "      <td>0.699599</td>\n",
              "      <td>844.162</td>\n",
              "      <td>Kecimen</td>\n",
              "    </tr>\n",
              "    <tr>\n",
              "      <th>4</th>\n",
              "      <td>79408</td>\n",
              "      <td>352.190770</td>\n",
              "      <td>290.827533</td>\n",
              "      <td>0.564011</td>\n",
              "      <td>81463</td>\n",
              "      <td>0.792772</td>\n",
              "      <td>1073.251</td>\n",
              "      <td>Kecimen</td>\n",
              "    </tr>\n",
              "  </tbody>\n",
              "</table>\n",
              "</div>\n",
              "      <button class=\"colab-df-convert\" onclick=\"convertToInteractive('df-34040f34-697d-4964-b670-f4cb5dd4a568')\"\n",
              "              title=\"Convert this dataframe to an interactive table.\"\n",
              "              style=\"display:none;\">\n",
              "        \n",
              "  <svg xmlns=\"http://www.w3.org/2000/svg\" height=\"24px\"viewBox=\"0 0 24 24\"\n",
              "       width=\"24px\">\n",
              "    <path d=\"M0 0h24v24H0V0z\" fill=\"none\"/>\n",
              "    <path d=\"M18.56 5.44l.94 2.06.94-2.06 2.06-.94-2.06-.94-.94-2.06-.94 2.06-2.06.94zm-11 1L8.5 8.5l.94-2.06 2.06-.94-2.06-.94L8.5 2.5l-.94 2.06-2.06.94zm10 10l.94 2.06.94-2.06 2.06-.94-2.06-.94-.94-2.06-.94 2.06-2.06.94z\"/><path d=\"M17.41 7.96l-1.37-1.37c-.4-.4-.92-.59-1.43-.59-.52 0-1.04.2-1.43.59L10.3 9.45l-7.72 7.72c-.78.78-.78 2.05 0 2.83L4 21.41c.39.39.9.59 1.41.59.51 0 1.02-.2 1.41-.59l7.78-7.78 2.81-2.81c.8-.78.8-2.07 0-2.86zM5.41 20L4 18.59l7.72-7.72 1.47 1.35L5.41 20z\"/>\n",
              "  </svg>\n",
              "      </button>\n",
              "      \n",
              "  <style>\n",
              "    .colab-df-container {\n",
              "      display:flex;\n",
              "      flex-wrap:wrap;\n",
              "      gap: 12px;\n",
              "    }\n",
              "\n",
              "    .colab-df-convert {\n",
              "      background-color: #E8F0FE;\n",
              "      border: none;\n",
              "      border-radius: 50%;\n",
              "      cursor: pointer;\n",
              "      display: none;\n",
              "      fill: #1967D2;\n",
              "      height: 32px;\n",
              "      padding: 0 0 0 0;\n",
              "      width: 32px;\n",
              "    }\n",
              "\n",
              "    .colab-df-convert:hover {\n",
              "      background-color: #E2EBFA;\n",
              "      box-shadow: 0px 1px 2px rgba(60, 64, 67, 0.3), 0px 1px 3px 1px rgba(60, 64, 67, 0.15);\n",
              "      fill: #174EA6;\n",
              "    }\n",
              "\n",
              "    [theme=dark] .colab-df-convert {\n",
              "      background-color: #3B4455;\n",
              "      fill: #D2E3FC;\n",
              "    }\n",
              "\n",
              "    [theme=dark] .colab-df-convert:hover {\n",
              "      background-color: #434B5C;\n",
              "      box-shadow: 0px 1px 3px 1px rgba(0, 0, 0, 0.15);\n",
              "      filter: drop-shadow(0px 1px 2px rgba(0, 0, 0, 0.3));\n",
              "      fill: #FFFFFF;\n",
              "    }\n",
              "  </style>\n",
              "\n",
              "      <script>\n",
              "        const buttonEl =\n",
              "          document.querySelector('#df-34040f34-697d-4964-b670-f4cb5dd4a568 button.colab-df-convert');\n",
              "        buttonEl.style.display =\n",
              "          google.colab.kernel.accessAllowed ? 'block' : 'none';\n",
              "\n",
              "        async function convertToInteractive(key) {\n",
              "          const element = document.querySelector('#df-34040f34-697d-4964-b670-f4cb5dd4a568');\n",
              "          const dataTable =\n",
              "            await google.colab.kernel.invokeFunction('convertToInteractive',\n",
              "                                                     [key], {});\n",
              "          if (!dataTable) return;\n",
              "\n",
              "          const docLinkHtml = 'Like what you see? Visit the ' +\n",
              "            '<a target=\"_blank\" href=https://colab.research.google.com/notebooks/data_table.ipynb>data table notebook</a>'\n",
              "            + ' to learn more about interactive tables.';\n",
              "          element.innerHTML = '';\n",
              "          dataTable['output_type'] = 'display_data';\n",
              "          await google.colab.output.renderOutput(dataTable, element);\n",
              "          const docLink = document.createElement('div');\n",
              "          docLink.innerHTML = docLinkHtml;\n",
              "          element.appendChild(docLink);\n",
              "        }\n",
              "      </script>\n",
              "    </div>\n",
              "  </div>\n",
              "  "
            ]
          },
          "metadata": {},
          "execution_count": 41
        }
      ]
    },
    {
      "cell_type": "markdown",
      "source": [
        "**Check data types and missing values**"
      ],
      "metadata": {
        "id": "var8MDcO9gmW"
      }
    },
    {
      "cell_type": "code",
      "source": [
        "data.info()"
      ],
      "metadata": {
        "id": "mGVn3_G69oir",
        "colab": {
          "base_uri": "https://localhost:8080/"
        },
        "outputId": "8bb00071-4ab2-4249-ac33-d2ed19f0f97c"
      },
      "execution_count": null,
      "outputs": [
        {
          "output_type": "stream",
          "name": "stdout",
          "text": [
            "<class 'pandas.core.frame.DataFrame'>\n",
            "RangeIndex: 900 entries, 0 to 899\n",
            "Data columns (total 8 columns):\n",
            " #   Column             Non-Null Count  Dtype  \n",
            "---  ------             --------------  -----  \n",
            " 0   area               900 non-null    int64  \n",
            " 1   major_axis_length  900 non-null    float64\n",
            " 2   minor_axis_length  900 non-null    float64\n",
            " 3   eccentricity       900 non-null    float64\n",
            " 4   convex_area        900 non-null    int64  \n",
            " 5   extent             900 non-null    float64\n",
            " 6   perimeter          900 non-null    float64\n",
            " 7   class              900 non-null    object \n",
            "dtypes: float64(5), int64(2), object(1)\n",
            "memory usage: 56.4+ KB\n"
          ]
        }
      ]
    },
    {
      "cell_type": "code",
      "source": [
        "data.isnull().sum()"
      ],
      "metadata": {
        "id": "H76tOyAV9v-Z",
        "colab": {
          "base_uri": "https://localhost:8080/"
        },
        "outputId": "35240d00-0921-413e-9167-ef45a30310df"
      },
      "execution_count": null,
      "outputs": [
        {
          "output_type": "execute_result",
          "data": {
            "text/plain": [
              "area                 0\n",
              "major_axis_length    0\n",
              "minor_axis_length    0\n",
              "eccentricity         0\n",
              "convex_area          0\n",
              "extent               0\n",
              "perimeter            0\n",
              "class                0\n",
              "dtype: int64"
            ]
          },
          "metadata": {},
          "execution_count": 43
        }
      ]
    },
    {
      "cell_type": "markdown",
      "source": [
        "**Memeriksa apakah nilai didistribusikan secara merata.**"
      ],
      "metadata": {
        "id": "aNn2sjCB_eQB"
      }
    },
    {
      "cell_type": "code",
      "source": [
        "data['class'].value_counts()"
      ],
      "metadata": {
        "id": "qh2xkUVmEXbr",
        "colab": {
          "base_uri": "https://localhost:8080/"
        },
        "outputId": "0b2fcca7-0b07-47c8-c3dd-09779235d0bf"
      },
      "execution_count": null,
      "outputs": [
        {
          "output_type": "execute_result",
          "data": {
            "text/plain": [
              "Kecimen    450\n",
              "Besni      450\n",
              "Name: class, dtype: int64"
            ]
          },
          "metadata": {},
          "execution_count": 44
        }
      ]
    },
    {
      "cell_type": "markdown",
      "source": [
        "**Check correlation between features**"
      ],
      "metadata": {
        "id": "aQfpnKGt-CKB"
      }
    },
    {
      "cell_type": "code",
      "source": [
        " # Display correlation matrix\n",
        "plt.figure(figsize = (20, 20))\n",
        "sns.heatmap(data.corr(),\n",
        "            annot = True,\n",
        "            cmap = \"Blues\",\n",
        "            fmt = \".2f\",\n",
        "            vmin = -1.00, vmax = 1.00)\n",
        "plt.show()"
      ],
      "metadata": {
        "id": "yMBMawW6-JS_",
        "colab": {
          "base_uri": "https://localhost:8080/"
        },
        "outputId": "5756130d-d400-4b99-e52a-145b50d3eb44"
      },
      "execution_count": null,
      "outputs": [
        {
          "output_type": "display_data",
          "data": {
            "text/plain": [
              "<Figure size 1440x1440 with 2 Axes>"
            ],
            "image/png": "[encoded data removed]"
          },
          "metadata": {
            "needs_background": "light"
          }
        }
      ]
    },
    {
      "cell_type": "markdown",
      "source": [
        "**Display raisin per type**"
      ],
      "metadata": {
        "id": "9oN4KWWy-Yqz"
      }
    },
    {
      "cell_type": "code",
      "source": [
        "plt.figure(figsize = (8, 5))\n",
        "sns.countplot(x = data[\"class\"], palette=\"Set2\")\n",
        "plt.title(\"Number of raisin per type\")\n",
        "plt.show()"
      ],
      "metadata": {
        "id": "wSMFV0-7-V1Q",
        "colab": {
          "base_uri": "https://localhost:8080/"
        },
        "outputId": "bd630cbd-7327-4112-f7f8-3511c74bb9e9"
      },
      "execution_count": null,
      "outputs": [
        {
          "output_type": "display_data",
          "data": {
            "text/plain": [
              "<Figure size 576x360 with 1 Axes>"
            ],
            "image/png": "[encoded data removed]"
          },
          "metadata": {
            "needs_background": "light"
          }
        }
      ]
    },
    {
      "cell_type": "markdown",
      "source": [
        "**Display distribution of values in each feature**"
      ],
      "metadata": {
        "id": "Ewn8tKG8-elR"
      }
    },
    {
      "cell_type": "code",
      "source": [
        "raisin_features = data.drop([\"class\"], axis = 1)"
      ],
      "metadata": {
        "id": "i_ROa-wF-gZ2"
      },
      "execution_count": null,
      "outputs": []
    },
    {
      "cell_type": "code",
      "source": [
        "# Plot features value distribution\n",
        "fig, axs = plt.subplots(ncols = 2, nrows = 4, figsize = (20, 20))\n",
        "index = 0\n",
        "\n",
        "axs = axs.flatten()\n",
        "for k, v in raisin_features.items():\n",
        "    sns.histplot(v, ax = axs[index])\n",
        "    index += 1\n",
        "plt.tight_layout(pad = 0.4, w_pad = 0.5, h_pad = 5.0)"
      ],
      "metadata": {
        "id": "9XUfJxwE-jW0",
        "colab": {
          "base_uri": "https://localhost:8080/"
        },
        "outputId": "043c241a-90fd-42af-9c77-73f8a9b9c9f2"
      },
      "execution_count": null,
      "outputs": [
        {
          "output_type": "display_data",
          "data": {
            "text/plain": [
              "<Figure size 1440x1440 with 8 Axes>"
            ],
            "image/png": "[encoded data removed]"
          },
          "metadata": {
            "needs_background": "light"
          }
        }
      ]
    },
    {
      "cell_type": "markdown",
      "source": [
        "**Check for outliers**"
      ],
      "metadata": {
        "id": "K4OEPCe8-rPd"
      }
    },
    {
      "cell_type": "code",
      "source": [
        "# Display boxplots per feature\n",
        "fig, axs = plt.subplots(ncols = 2, nrows = 4, figsize = (20, 20))\n",
        "idx = 0\n",
        "axs = axs.flatten()\n",
        "for k, v in raisin_features.items():\n",
        "    sns.boxplot(y = k, data = raisin_features, ax = axs[idx])\n",
        "    idx += 1\n",
        "plt.tight_layout(pad = 0.4, w_pad = 0.5, h_pad = 5.0)"
      ],
      "metadata": {
        "id": "e7jRTmRB-mc4",
        "colab": {
          "base_uri": "https://localhost:8080/"
        },
        "outputId": "96076112-01dd-4a9a-878f-a2ab5a863759"
      },
      "execution_count": null,
      "outputs": [
        {
          "output_type": "display_data",
          "data": {
            "text/plain": [
              "<Figure size 1440x1440 with 8 Axes>"
            ],
            "image/png": "[encoded data removed]"
          },
          "metadata": {
            "needs_background": "light"
          }
        }
      ]
    },
    {
      "cell_type": "markdown",
      "source": [
        "# **Data pre-processing**"
      ],
      "metadata": {
        "id": "Y41P97SW-yd4"
      }
    },
    {
      "cell_type": "markdown",
      "source": [
        "**Mengubah nilai kelas menjadi 0 dan 1 dan memastikan setiap kolom numerik.**"
      ],
      "metadata": {
        "id": "nn8pE4tY_YV2"
      }
    },
    {
      "cell_type": "code",
      "source": [
        "# Convert columns to numeric\n",
        "data['class'] = data['class'].str.replace('Kecimen', '0')\n",
        "data['class'] = data['class'].str.replace('Besni', '1')\n",
        "\n",
        "cols = data.columns\n",
        "data[cols] = data[cols].apply(pd.to_numeric, errors='coerce')\n",
        "\n",
        "# Data frame structure\n",
        "data.info()"
      ],
      "metadata": {
        "id": "JnfxY8_EeHVk",
        "colab": {
          "base_uri": "https://localhost:8080/"
        },
        "outputId": "05342b4b-6f7c-446f-9a62-a29bb0f9af3b"
      },
      "execution_count": null,
      "outputs": [
        {
          "output_type": "stream",
          "name": "stdout",
          "text": [
            "<class 'pandas.core.frame.DataFrame'>\n",
            "RangeIndex: 900 entries, 0 to 899\n",
            "Data columns (total 8 columns):\n",
            " #   Column             Non-Null Count  Dtype  \n",
            "---  ------             --------------  -----  \n",
            " 0   area               900 non-null    int64  \n",
            " 1   major_axis_length  900 non-null    float64\n",
            " 2   minor_axis_length  900 non-null    float64\n",
            " 3   eccentricity       900 non-null    float64\n",
            " 4   convex_area        900 non-null    int64  \n",
            " 5   extent             900 non-null    float64\n",
            " 6   perimeter          900 non-null    float64\n",
            " 7   class              900 non-null    int64  \n",
            "dtypes: float64(5), int64(3)\n",
            "memory usage: 56.4 KB\n"
          ]
        }
      ]
    },
    {
      "cell_type": "code",
      "source": [
        "data"
      ],
      "metadata": {
        "colab": {
          "base_uri": "https://localhost:8080/",
          "height": 424
        },
        "id": "-TrLPp6JxkiA",
        "outputId": "5347f1e4-1671-498f-cbd5-8008ce9ca88e"
      },
      "execution_count": null,
      "outputs": [
        {
          "output_type": "execute_result",
          "data": {
            "text/plain": [
              "      area  major_axis_length  minor_axis_length  eccentricity  convex_area  \\\n",
              "0    87524         442.246011         253.291155      0.819738        90546   \n",
              "1    75166         406.690687         243.032436      0.801805        78789   \n",
              "2    90856         442.267048         266.328318      0.798354        93717   \n",
              "3    45928         286.540559         208.760042      0.684989        47336   \n",
              "4    79408         352.190770         290.827533      0.564011        81463   \n",
              "..     ...                ...                ...           ...          ...   \n",
              "895  83248         430.077308         247.838695      0.817263        85839   \n",
              "896  87350         440.735698         259.293149      0.808629        90899   \n",
              "897  99657         431.706981         298.837323      0.721684       106264   \n",
              "898  93523         476.344094         254.176054      0.845739        97653   \n",
              "899  85609         512.081774         215.271976      0.907345        89197   \n",
              "\n",
              "       extent  perimeter  class  \n",
              "0    0.758651   1184.040      0  \n",
              "1    0.684130   1121.786      0  \n",
              "2    0.637613   1208.575      0  \n",
              "3    0.699599    844.162      0  \n",
              "4    0.792772   1073.251      0  \n",
              "..        ...        ...    ...  \n",
              "895  0.668793   1129.072      1  \n",
              "896  0.636476   1214.252      1  \n",
              "897  0.741099   1292.828      1  \n",
              "898  0.658798   1258.548      1  \n",
              "899  0.632020   1272.862      1  \n",
              "\n",
              "[900 rows x 8 columns]"
            ],
            "text/html": [
              "\n",
              "  <div id=\"df-c987e873-b428-427d-a74d-a9f4d2cea225\">\n",
              "    <div class=\"colab-df-container\">\n",
              "      <div>\n",
              "<style scoped>\n",
              "    .dataframe tbody tr th:only-of-type {\n",
              "        vertical-align: middle;\n",
              "    }\n",
              "\n",
              "    .dataframe tbody tr th {\n",
              "        vertical-align: top;\n",
              "    }\n",
              "\n",
              "    .dataframe thead th {\n",
              "        text-align: right;\n",
              "    }\n",
              "</style>\n",
              "<table border=\"1\" class=\"dataframe\">\n",
              "  <thead>\n",
              "    <tr style=\"text-align: right;\">\n",
              "      <th></th>\n",
              "      <th>area</th>\n",
              "      <th>major_axis_length</th>\n",
              "      <th>minor_axis_length</th>\n",
              "      <th>eccentricity</th>\n",
              "      <th>convex_area</th>\n",
              "      <th>extent</th>\n",
              "      <th>perimeter</th>\n",
              "      <th>class</th>\n",
              "    </tr>\n",
              "  </thead>\n",
              "  <tbody>\n",
              "    <tr>\n",
              "      <th>0</th>\n",
              "      <td>87524</td>\n",
              "      <td>442.246011</td>\n",
              "      <td>253.291155</td>\n",
              "      <td>0.819738</td>\n",
              "      <td>90546</td>\n",
              "      <td>0.758651</td>\n",
              "      <td>1184.040</td>\n",
              "      <td>0</td>\n",
              "    </tr>\n",
              "    <tr>\n",
              "      <th>1</th>\n",
              "      <td>75166</td>\n",
              "      <td>406.690687</td>\n",
              "      <td>243.032436</td>\n",
              "      <td>0.801805</td>\n",
              "      <td>78789</td>\n",
              "      <td>0.684130</td>\n",
              "      <td>1121.786</td>\n",
              "      <td>0</td>\n",
              "    </tr>\n",
              "    <tr>\n",
              "      <th>2</th>\n",
              "      <td>90856</td>\n",
              "      <td>442.267048</td>\n",
              "      <td>266.328318</td>\n",
              "      <td>0.798354</td>\n",
              "      <td>93717</td>\n",
              "      <td>0.637613</td>\n",
              "      <td>1208.575</td>\n",
              "      <td>0</td>\n",
              "    </tr>\n",
              "    <tr>\n",
              "      <th>3</th>\n",
              "      <td>45928</td>\n",
              "      <td>286.540559</td>\n",
              "      <td>208.760042</td>\n",
              "      <td>0.684989</td>\n",
              "      <td>47336</td>\n",
              "      <td>0.699599</td>\n",
              "      <td>844.162</td>\n",
              "      <td>0</td>\n",
              "    </tr>\n",
              "    <tr>\n",
              "      <th>4</th>\n",
              "      <td>79408</td>\n",
              "      <td>352.190770</td>\n",
              "      <td>290.827533</td>\n",
              "      <td>0.564011</td>\n",
              "      <td>81463</td>\n",
              "      <td>0.792772</td>\n",
              "      <td>1073.251</td>\n",
              "      <td>0</td>\n",
              "    </tr>\n",
              "    <tr>\n",
              "      <th>...</th>\n",
              "      <td>...</td>\n",
              "      <td>...</td>\n",
              "      <td>...</td>\n",
              "      <td>...</td>\n",
              "      <td>...</td>\n",
              "      <td>...</td>\n",
              "      <td>...</td>\n",
              "      <td>...</td>\n",
              "    </tr>\n",
              "    <tr>\n",
              "      <th>895</th>\n",
              "      <td>83248</td>\n",
              "      <td>430.077308</td>\n",
              "      <td>247.838695</td>\n",
              "      <td>0.817263</td>\n",
              "      <td>85839</td>\n",
              "      <td>0.668793</td>\n",
              "      <td>1129.072</td>\n",
              "      <td>1</td>\n",
              "    </tr>\n",
              "    <tr>\n",
              "      <th>896</th>\n",
              "      <td>87350</td>\n",
              "      <td>440.735698</td>\n",
              "      <td>259.293149</td>\n",
              "      <td>0.808629</td>\n",
              "      <td>90899</td>\n",
              "      <td>0.636476</td>\n",
              "      <td>1214.252</td>\n",
              "      <td>1</td>\n",
              "    </tr>\n",
              "    <tr>\n",
              "      <th>897</th>\n",
              "      <td>99657</td>\n",
              "      <td>431.706981</td>\n",
              "      <td>298.837323</td>\n",
              "      <td>0.721684</td>\n",
              "      <td>106264</td>\n",
              "      <td>0.741099</td>\n",
              "      <td>1292.828</td>\n",
              "      <td>1</td>\n",
              "    </tr>\n",
              "    <tr>\n",
              "      <th>898</th>\n",
              "      <td>93523</td>\n",
              "      <td>476.344094</td>\n",
              "      <td>254.176054</td>\n",
              "      <td>0.845739</td>\n",
              "      <td>97653</td>\n",
              "      <td>0.658798</td>\n",
              "      <td>1258.548</td>\n",
              "      <td>1</td>\n",
              "    </tr>\n",
              "    <tr>\n",
              "      <th>899</th>\n",
              "      <td>85609</td>\n",
              "      <td>512.081774</td>\n",
              "      <td>215.271976</td>\n",
              "      <td>0.907345</td>\n",
              "      <td>89197</td>\n",
              "      <td>0.632020</td>\n",
              "      <td>1272.862</td>\n",
              "      <td>1</td>\n",
              "    </tr>\n",
              "  </tbody>\n",
              "</table>\n",
              "<p>900 rows × 8 columns</p>\n",
              "</div>\n",
              "      <button class=\"colab-df-convert\" onclick=\"convertToInteractive('df-c987e873-b428-427d-a74d-a9f4d2cea225')\"\n",
              "              title=\"Convert this dataframe to an interactive table.\"\n",
              "              style=\"display:none;\">\n",
              "        \n",
              "  <svg xmlns=\"http://www.w3.org/2000/svg\" height=\"24px\"viewBox=\"0 0 24 24\"\n",
              "       width=\"24px\">\n",
              "    <path d=\"M0 0h24v24H0V0z\" fill=\"none\"/>\n",
              "    <path d=\"M18.56 5.44l.94 2.06.94-2.06 2.06-.94-2.06-.94-.94-2.06-.94 2.06-2.06.94zm-11 1L8.5 8.5l.94-2.06 2.06-.94-2.06-.94L8.5 2.5l-.94 2.06-2.06.94zm10 10l.94 2.06.94-2.06 2.06-.94-2.06-.94-.94-2.06-.94 2.06-2.06.94z\"/><path d=\"M17.41 7.96l-1.37-1.37c-.4-.4-.92-.59-1.43-.59-.52 0-1.04.2-1.43.59L10.3 9.45l-7.72 7.72c-.78.78-.78 2.05 0 2.83L4 21.41c.39.39.9.59 1.41.59.51 0 1.02-.2 1.41-.59l7.78-7.78 2.81-2.81c.8-.78.8-2.07 0-2.86zM5.41 20L4 18.59l7.72-7.72 1.47 1.35L5.41 20z\"/>\n",
              "  </svg>\n",
              "      </button>\n",
              "      \n",
              "  <style>\n",
              "    .colab-df-container {\n",
              "      display:flex;\n",
              "      flex-wrap:wrap;\n",
              "      gap: 12px;\n",
              "    }\n",
              "\n",
              "    .colab-df-convert {\n",
              "      background-color: #E8F0FE;\n",
              "      border: none;\n",
              "      border-radius: 50%;\n",
              "      cursor: pointer;\n",
              "      display: none;\n",
              "      fill: #1967D2;\n",
              "      height: 32px;\n",
              "      padding: 0 0 0 0;\n",
              "      width: 32px;\n",
              "    }\n",
              "\n",
              "    .colab-df-convert:hover {\n",
              "      background-color: #E2EBFA;\n",
              "      box-shadow: 0px 1px 2px rgba(60, 64, 67, 0.3), 0px 1px 3px 1px rgba(60, 64, 67, 0.15);\n",
              "      fill: #174EA6;\n",
              "    }\n",
              "\n",
              "    [theme=dark] .colab-df-convert {\n",
              "      background-color: #3B4455;\n",
              "      fill: #D2E3FC;\n",
              "    }\n",
              "\n",
              "    [theme=dark] .colab-df-convert:hover {\n",
              "      background-color: #434B5C;\n",
              "      box-shadow: 0px 1px 3px 1px rgba(0, 0, 0, 0.15);\n",
              "      filter: drop-shadow(0px 1px 2px rgba(0, 0, 0, 0.3));\n",
              "      fill: #FFFFFF;\n",
              "    }\n",
              "  </style>\n",
              "\n",
              "      <script>\n",
              "        const buttonEl =\n",
              "          document.querySelector('#df-c987e873-b428-427d-a74d-a9f4d2cea225 button.colab-df-convert');\n",
              "        buttonEl.style.display =\n",
              "          google.colab.kernel.accessAllowed ? 'block' : 'none';\n",
              "\n",
              "        async function convertToInteractive(key) {\n",
              "          const element = document.querySelector('#df-c987e873-b428-427d-a74d-a9f4d2cea225');\n",
              "          const dataTable =\n",
              "            await google.colab.kernel.invokeFunction('convertToInteractive',\n",
              "                                                     [key], {});\n",
              "          if (!dataTable) return;\n",
              "\n",
              "          const docLinkHtml = 'Like what you see? Visit the ' +\n",
              "            '<a target=\"_blank\" href=https://colab.research.google.com/notebooks/data_table.ipynb>data table notebook</a>'\n",
              "            + ' to learn more about interactive tables.';\n",
              "          element.innerHTML = '';\n",
              "          dataTable['output_type'] = 'display_data';\n",
              "          await google.colab.output.renderOutput(dataTable, element);\n",
              "          const docLink = document.createElement('div');\n",
              "          docLink.innerHTML = docLinkHtml;\n",
              "          element.appendChild(docLink);\n",
              "        }\n",
              "      </script>\n",
              "    </div>\n",
              "  </div>\n",
              "  "
            ]
          },
          "metadata": {},
          "execution_count": 17
        }
      ]
    },
    {
      "cell_type": "markdown",
      "source": [
        "Train -  test split"
      ],
      "metadata": {
        "id": "T1suMWLp-304"
      }
    },
    {
      "cell_type": "code",
      "source": [
        "# Data for SVM\n",
        "X = data\n",
        "X = X.drop(['class'], axis = 1)\n",
        "Y = data['class'] # class"
      ],
      "metadata": {
        "id": "xdb5QynS_pLG"
      },
      "execution_count": null,
      "outputs": []
    },
    {
      "cell_type": "code",
      "source": [
        "from sklearn.model_selection import train_test_split\n",
        "X_train, X_test, Y_train, Y_test = train_test_split(X, Y, test_size = 0.1, random_state = 0)"
      ],
      "metadata": {
        "id": "TURkN1hbKmUL"
      },
      "execution_count": null,
      "outputs": []
    },
    {
      "cell_type": "markdown",
      "source": [
        "# **Polynomial Kernel**"
      ],
      "metadata": {
        "id": "xr2J1-c8ROnG"
      }
    },
    {
      "cell_type": "code",
      "source": [
        "# Parameters for classificator - polynomial kernel\n",
        "degree = [1,2,3,4,5,6,7,8,9]\n",
        "degree = np.array(degree)\n",
        "\n",
        "# Tables to save accuracy - polynomial kernel\n",
        "Accuracy_CV_poly = np.zeros((10,1))\n",
        "Accuracy_poly = np.zeros(len(degree))"
      ],
      "metadata": {
        "id": "KH7KjeMC_vXN"
      },
      "execution_count": null,
      "outputs": []
    },
    {
      "cell_type": "code",
      "source": [
        "# SVM - polynomial kernel\n",
        "for i in range(0, len(degree)): # degree\n",
        "    for k in range(1, 10): # Crossvalidation\n",
        "        # Split data into test and train sets\n",
        "        X_train_poly, X_test_poly, Y_train_poly, Y_test_poly = train_test_split(X, Y, test_size = 0.10) # 10 times cs so test_size is 10% of data set\n",
        "\n",
        "        # Standarization\n",
        "        sc = StandardScaler()\n",
        "        sc.fit(X_train_poly)\n",
        "        X_train_poly = sc.transform(X_train_poly)\n",
        "        X_test_poly = sc.transform(X_test_poly)\n",
        "        X_train_poly = pd.DataFrame(X_train_poly)\n",
        "        X_test_poly = pd.DataFrame(X_test_poly)\n",
        "\n",
        "        # Model\n",
        "        svclassifier = SVC(kernel='poly', degree = degree[i])\n",
        "        svclassifier.fit(X_train_poly, Y_train_poly)\n",
        "\n",
        "        y_pred_poly = svclassifier.predict(X_test_poly)\n",
        "\n",
        "        # Accuracy - how many values from y_pred are equal to Y_test\n",
        "        Accuracy_CV_poly[k] = sum(y_pred_poly == Y_test_poly)/len(Y_test_poly)\n",
        "\n",
        "    Accuracy_poly[i] = np.mean(Accuracy_CV_poly) # rows - gamma, columns - C\n",
        "\n",
        "Accuracy_poly # display accuracy table"
      ],
      "metadata": {
        "colab": {
          "base_uri": "https://localhost:8080/"
        },
        "id": "ctrbWQMQ_-vf",
        "outputId": "4e6f92ad-6dfc-4600-ba42-6ad0be73e27b"
      },
      "execution_count": null,
      "outputs": [
        {
          "output_type": "execute_result",
          "data": {
            "text/plain": [
              "array([0.79222222, 0.58222222, 0.74555556, 0.59666667, 0.69      ,\n",
              "       0.60333333, 0.64222222, 0.57777778, 0.62111111])"
            ]
          },
          "metadata": {},
          "execution_count": 52
        }
      ]
    },
    {
      "cell_type": "code",
      "source": [
        "# polynomial kernel accuracy plot\n",
        "# axis X - degree\n",
        "plt.plot(Accuracy_poly)\n",
        "plt.xlabel('degree')\n",
        "plt.ylabel('Accuracy')\n",
        "#plt.xticks(np.arange(len(degree)), degree) # correct axis X ticks"
      ],
      "metadata": {
        "colab": {
          "base_uri": "https://localhost:8080/",
          "height": 233
        },
        "id": "LzwRCjP9AKoZ",
        "outputId": "43a23258-e006-4b42-d26b-2353d64c3edc"
      },
      "execution_count": null,
      "outputs": [
        {
          "output_type": "execute_result",
          "data": {
            "text/plain": [
              "Text(0, 0.5, 'Accuracy')"
            ]
          },
          "metadata": {},
          "execution_count": 53
        },
        {
          "output_type": "display_data",
          "data": {
            "text/plain": [
              "<Figure size 432x288 with 1 Axes>"
            ],
            "image/png": "[encoded data removed]"
          },
          "metadata": {
            "needs_background": "light"
          }
        }
      ]
    },
    {
      "cell_type": "markdown",
      "source": [
        "Seperti yang bisa kita lihat, model yang dibangun dengan kernel polinomial tidak memiliki akurasi terbaik."
      ],
      "metadata": {
        "id": "4PB2H9m9AN6v"
      }
    },
    {
      "cell_type": "markdown",
      "source": [
        "# **RBF kernel**"
      ],
      "metadata": {
        "id": "_7Suoy_-ARiR"
      }
    },
    {
      "cell_type": "code",
      "source": [
        "# Parameters for classificator - rbf kernel\n",
        "gamma = [0.0005, 0.005, 0.01, 0.05, 0.2, 0.8, 1.5, 2.5, 5, 10, 20, 50, 100]\n",
        "gamma = np.array(gamma)\n",
        "C = [1, 10, 100, 1000, 10000, 100000]\n",
        "C = np.array(C)"
      ],
      "metadata": {
        "id": "C77V2AGnATME"
      },
      "execution_count": null,
      "outputs": []
    },
    {
      "cell_type": "code",
      "source": [
        "# Tables to save accuracy - rbf kernel\n",
        "Accuracy_CV = np.zeros((10,1))\n",
        "Accuracy = np.zeros((len(gamma), len(C)))\n",
        "\n",
        "# SVM - rbf kernel\n",
        "for i in range(0, len(C)): # C\n",
        "    for j in range(0, len(gamma)): # gamma\n",
        "        for k in range(1, 10): # Crossvalidation\n",
        "            # Split data into test and train sets\n",
        "            X_train, X_test, Y_train, Y_test = train_test_split(X, Y, test_size = 0.10) # 10 times cs so test_size is 10% of data set\n",
        "\n",
        "            # Standarization\n",
        "            sc = StandardScaler()\n",
        "            sc.fit(X_train)\n",
        "            X_train = sc.transform(X_train)\n",
        "            X_test = sc.transform(X_test)\n",
        "            X_train = pd.DataFrame(X_train)\n",
        "            X_test = pd.DataFrame(X_test)\n",
        "\n",
        "            # Model\n",
        "            svclassifier = SVC(kernel = 'rbf', C = C[i], gamma = gamma[j])\n",
        "\n",
        "            svclassifier.fit(X_train, Y_train)\n",
        "            y_pred = svclassifier.predict(X_test)\n",
        "\n",
        "            # Accuracy - how many values from y_pred are equal to Y_test\n",
        "            Accuracy_CV[k] = sum(y_pred == Y_test)/len(Y_test)\n",
        "\n",
        "        Accuracy[j,i] = np.mean(Accuracy_CV) # rows - gamma, columns - C\n",
        "\n",
        "Accuracy # display accuracy table"
      ],
      "metadata": {
        "id": "2Te9xMyPAdqe",
        "colab": {
          "base_uri": "https://localhost:8080/"
        },
        "outputId": "6a1fff8b-a75e-4070-ea82-4af5b5624942"
      },
      "execution_count": null,
      "outputs": [
        {
          "output_type": "execute_result",
          "data": {
            "text/plain": [
              "array([[0.75555556, 0.77666667, 0.76666667, 0.79555556, 0.78      ,\n",
              "        0.77777778],\n",
              "       [0.78666667, 0.79333333, 0.78444444, 0.78555556, 0.79444444,\n",
              "        0.79333333],\n",
              "       [0.77777778, 0.76888889, 0.79111111, 0.78777778, 0.78333333,\n",
              "        0.76222222],\n",
              "       [0.77888889, 0.78555556, 0.75777778, 0.75777778, 0.76333333,\n",
              "        0.77111111],\n",
              "       [0.76111111, 0.79      , 0.76333333, 0.77555556, 0.76888889,\n",
              "        0.75555556],\n",
              "       [0.76111111, 0.77222222, 0.77666667, 0.72333333, 0.72555556,\n",
              "        0.71      ],\n",
              "       [0.77555556, 0.77333333, 0.75444444, 0.71333333, 0.72      ,\n",
              "        0.70888889],\n",
              "       [0.76888889, 0.75111111, 0.73666667, 0.71444444, 0.74222222,\n",
              "        0.74222222],\n",
              "       [0.75777778, 0.72555556, 0.69      , 0.72      , 0.71444444,\n",
              "        0.71444444],\n",
              "       [0.73      , 0.70444444, 0.70777778, 0.68777778, 0.7       ,\n",
              "        0.71888889],\n",
              "       [0.69111111, 0.67444444, 0.66111111, 0.67111111, 0.73444444,\n",
              "        0.68888889],\n",
              "       [0.63555556, 0.62111111, 0.60777778, 0.64444444, 0.63111111,\n",
              "        0.63666667],\n",
              "       [0.52111111, 0.53666667, 0.58555556, 0.53888889, 0.55111111,\n",
              "        0.51666667]])"
            ]
          },
          "metadata": {},
          "execution_count": 55
        }
      ]
    },
    {
      "cell_type": "code",
      "source": [
        "# rbf kernel accuracy plot\n",
        "# axis X - gamma, different lines - C\n",
        "for p in range(0, len(C)): # number of lines = number of C values\n",
        "    plt.plot(Accuracy[:,p], label = C[p]) # every line plotted separately in order to have a name\n",
        "plt.xlabel('Gamma')\n",
        "plt.ylabel('Accuracy')\n",
        "plt.xticks(np.arange(len(gamma)), gamma) # correct axis X ticks\n",
        "plt.legend(title = 'C')"
      ],
      "metadata": {
        "id": "eoIRpqT6AjgQ",
        "colab": {
          "base_uri": "https://localhost:8080/",
          "height": 249
        },
        "outputId": "9da4672a-2fd1-416e-e727-9d18a7b5af4c"
      },
      "execution_count": null,
      "outputs": [
        {
          "output_type": "execute_result",
          "data": {
            "text/plain": [
              "<matplotlib.legend.Legend at 0x7fd477483100>"
            ]
          },
          "metadata": {},
          "execution_count": 56
        },
        {
          "output_type": "display_data",
          "data": {
            "text/plain": [
              "<Figure size 432x288 with 1 Axes>"
            ],
            "image/png": "[encoded data removed]"
          },
          "metadata": {
            "needs_background": "light"
          }
        }
      ]
    },
    {
      "cell_type": "markdown",
      "source": [
        "Akurasi turun dengan cepat setelah gamma = 5.0. Nilai C yang lebih besar tidak berarti akurasi yang lebih baik seperti yang terlihat.\n",
        "\n",
        "Kernel RBF akan diuji sekali lagi. Gamma data kali ini akan ditetapkan sebagai konstanta (gamma = 0,05)."
      ],
      "metadata": {
        "id": "rP746P7yAnIN"
      }
    },
    {
      "cell_type": "code",
      "source": [
        "C = [1, 10, 100, 1000, 10000, 100000]\n",
        "C = np.array(C)\n",
        "\n",
        "k_range = 10\n",
        "Accuracy_CV2 = np.zeros((len(C),2))\n",
        "Accuracy_rbf2 = np.zeros((k_range,2))\n",
        "# SVM - rbf kernel - k is outside loop\n",
        "for k in range(0, k_range):\n",
        "    # Split data into test and train sets\n",
        "    X_train_rbf2, X_test_rbf2, Y_train_rbf2, Y_test_rbf2 = train_test_split(X, Y, test_size = k_range/100) # 10 times cs so test_size is 10% of data set\n",
        "\n",
        "    # Standarization\n",
        "    sc = StandardScaler()\n",
        "    sc.fit(X_train_rbf2)\n",
        "    X_train_rbf2 = sc.transform(X_train_rbf2)\n",
        "    X_test_rbf2 = sc.transform(X_test_rbf2)\n",
        "    X_train_rbf2 = pd.DataFrame(X_train_rbf2)\n",
        "    X_test_rbf2 = pd.DataFrame(X_test_rbf2)\n",
        "\n",
        "    for i in range(0, len(C)):\n",
        "        # Model\n",
        "        svclassifier = SVC(kernel = 'rbf', C = C[i], gamma = 0.05) # gamma constant\n",
        "        svclassifier.fit(X_train_rbf2, Y_train_rbf2)\n",
        "        y_pred_rbf2 = svclassifier.predict(X_test_rbf2)\n",
        "\n",
        "        # Accuracy\n",
        "        Accuracy_CV2[i,0] = sum(y_pred_rbf2 == Y_test_rbf2)/len(Y_test_rbf2)\n",
        "        Accuracy_CV2[i,1] = C[i]\n",
        "\n",
        "    Accuracy_rbf2[k,0] = np.max(Accuracy_CV2[:,0]) # best accuracy\n",
        "    id_max = np.argmax(Accuracy_CV2[:,0], axis=0)\n",
        "    Accuracy_rbf2[k,1] = Accuracy_CV2[id_max,1] # C for best acuracy\n",
        "\n",
        "print(\"Accuracy table:\\n\", Accuracy_rbf2) # display accuracy table"
      ],
      "metadata": {
        "id": "YK94NRHbAt51",
        "colab": {
          "base_uri": "https://localhost:8080/"
        },
        "outputId": "eda09b94-1e23-483b-bc3b-8716c4f969ef"
      },
      "execution_count": null,
      "outputs": [
        {
          "output_type": "stream",
          "name": "stdout",
          "text": [
            "Accuracy table:\n",
            " [[  0.84444444   1.        ]\n",
            " [  0.94444444 100.        ]\n",
            " [  0.87777778   1.        ]\n",
            " [  0.88888889   1.        ]\n",
            " [  0.83333333   1.        ]\n",
            " [  0.84444444   1.        ]\n",
            " [  0.86666667 100.        ]\n",
            " [  0.86666667 100.        ]\n",
            " [  0.87777778 100.        ]\n",
            " [  0.85555556 100.        ]]\n"
          ]
        }
      ]
    },
    {
      "cell_type": "code",
      "source": [
        "# Average accuracy\n",
        "Accuracy_mean = np.mean(Accuracy_rbf2[:,0])\n",
        "print(\"Mean accuracy =\", Accuracy_mean)"
      ],
      "metadata": {
        "id": "_3wfHvGGAxfJ",
        "colab": {
          "base_uri": "https://localhost:8080/"
        },
        "outputId": "08f641cf-9d76-4a60-f227-318e988067fa"
      },
      "execution_count": null,
      "outputs": [
        {
          "output_type": "stream",
          "name": "stdout",
          "text": [
            "Mean accuracy = 0.8700000000000001\n"
          ]
        }
      ]
    },
    {
      "cell_type": "code",
      "source": [
        "# Accuracy closest to average accuracy\n",
        "Accuarcy_roznica = Accuracy_rbf2[:,0] - Accuracy_mean\n",
        "Accuarcy_roznica = abs(Accuarcy_roznica)\n",
        "id_min = np.argmin(Accuarcy_roznica, axis=0)\n",
        "avg_acc_C = Accuracy_rbf2[id_min, 1]\n",
        "avg_acc = Accuracy_rbf2[id_min, 0]\n",
        "print(\"C for value closest to average accuracy:\",avg_acc_C)"
      ],
      "metadata": {
        "id": "T3Nn00mOA3C7",
        "colab": {
          "base_uri": "https://localhost:8080/"
        },
        "outputId": "d60a1ee6-0978-4dc7-8eef-0217b212f3d0"
      },
      "execution_count": null,
      "outputs": [
        {
          "output_type": "stream",
          "name": "stdout",
          "text": [
            "C for value closest to average accuracy: 100.0\n"
          ]
        }
      ]
    },
    {
      "cell_type": "code",
      "source": [
        "# Split\n",
        "X_train_last, X_test_last, Y_train_last, Y_test_last = train_test_split(X, Y, test_size = 0.10) # 10 times cs so test_size is 10% of data set\n",
        "\n",
        "# Standarization\n",
        "sc = StandardScaler()\n",
        "sc.fit(X_train_last)\n",
        "X_train_last = sc.transform(X_train_last)\n",
        "X_test_last = sc.transform(X_test_last)\n",
        "X_train_last = pd.DataFrame(X_train_last)\n",
        "X_test_last = pd.DataFrame(X_test_last)\n",
        "\n",
        "# ModelC[i]\n",
        "svclassifier = SVC(kernel = 'rbf', C = avg_acc_C, gamma = 0.05)\n",
        "\n",
        "svclassifier.fit(X_train_last, Y_train_last)\n",
        "y_pred_last = svclassifier.predict(X_test_last)\n",
        "\n",
        "# Accuracy - how many values from y_pred are equal to Y_test\n",
        "Accuracy_CV_last = sum(y_pred_last == Y_test_last)/len(Y_test_last)\n",
        "print(\"Accuracy:\", Accuracy_CV_last)"
      ],
      "metadata": {
        "id": "4a9LHSGgA7Ii",
        "colab": {
          "base_uri": "https://localhost:8080/"
        },
        "outputId": "9dae521b-39d9-4155-df3e-80f252c21971"
      },
      "execution_count": null,
      "outputs": [
        {
          "output_type": "stream",
          "name": "stdout",
          "text": [
            "Accuracy: 0.8777777777777778\n"
          ]
        }
      ]
    },
    {
      "cell_type": "code",
      "source": [
        "print(classification_report(Y_test_last, y_pred_last, target_names=['Besni', 'Kecimen']))"
      ],
      "metadata": {
        "id": "PX15uhN9BAkZ",
        "colab": {
          "base_uri": "https://localhost:8080/"
        },
        "outputId": "c33955ac-36f6-4acc-d861-59dc2b7c8329"
      },
      "execution_count": null,
      "outputs": [
        {
          "output_type": "stream",
          "name": "stdout",
          "text": [
            "              precision    recall  f1-score   support\n",
            "\n",
            "       Besni       0.84      0.93      0.88        45\n",
            "     Kecimen       0.93      0.82      0.87        45\n",
            "\n",
            "    accuracy                           0.88        90\n",
            "   macro avg       0.88      0.88      0.88        90\n",
            "weighted avg       0.88      0.88      0.88        90\n",
            "\n"
          ]
        }
      ]
    },
    {
      "cell_type": "code",
      "source": [
        "cm = confusion_matrix(Y_test_last,y_pred_last)\n",
        "print(\"confusion matrix:\")\n",
        "print(cm)"
      ],
      "metadata": {
        "colab": {
          "base_uri": "https://localhost:8080/"
        },
        "id": "JVFoiQKom9U_",
        "outputId": "a5101397-cfaa-4c8d-91cf-da605cce164d"
      },
      "execution_count": null,
      "outputs": [
        {
          "output_type": "stream",
          "name": "stdout",
          "text": [
            "confusion matrix:\n",
            "[[42  3]\n",
            " [ 8 37]]\n"
          ]
        }
      ]
    },
    {
      "cell_type": "code",
      "source": [
        "Y_train_pred=svclassifier.predict(X_train_last)\n",
        "\n",
        "print(accuracy_score(Y_test_last,y_pred_last))\n",
        "print(accuracy_score(Y_train_last,Y_train_pred))"
      ],
      "metadata": {
        "colab": {
          "base_uri": "https://localhost:8080/"
        },
        "id": "cSAc086unCGA",
        "outputId": "05e3f1eb-3bc2-4740-bbd9-9bdc0c3a422c"
      },
      "execution_count": null,
      "outputs": [
        {
          "output_type": "stream",
          "name": "stdout",
          "text": [
            "0.8777777777777778\n",
            "0.8814814814814815\n"
          ]
        }
      ]
    },
    {
      "cell_type": "markdown",
      "source": [
        "# **Percobaan lain**"
      ],
      "metadata": {
        "id": "t4o5ocYvckr_"
      }
    },
    {
      "cell_type": "code",
      "source": [
        "from sklearn import metrics\n",
        "from sklearn.metrics import classification_report\n",
        "from sklearn.metrics import accuracy_score\n",
        "from sklearn.metrics import confusion_matrix"
      ],
      "metadata": {
        "id": "DR_xWn8edB5T"
      },
      "execution_count": null,
      "outputs": []
    },
    {
      "cell_type": "code",
      "source": [
        "from sklearn.model_selection import train_test_split\n",
        "X_train, X_test, Y_train, Y_test = train_test_split(X, Y, test_size = 0.3, random_state = 0)"
      ],
      "metadata": {
        "id": "PU23bJtVfL9S"
      },
      "execution_count": null,
      "outputs": []
    },
    {
      "cell_type": "markdown",
      "source": [
        "# **Linear Kernal**"
      ],
      "metadata": {
        "id": "Vni_N3jHegK-"
      }
    },
    {
      "cell_type": "code",
      "source": [
        "svc = SVC(kernel='linear', C=1, probability=True)\n",
        "svc.fit(X_train, Y_train)\n",
        "Y_pred=svc.predict(X_test)\n",
        "\n",
        "score_accuration = accuracy_score(Y_test,Y_pred)\n",
        "report = classification_report(Y_pred, Y_test)\n",
        "cm = confusion_matrix(Y_test,Y_pred)\n",
        "\n",
        "print(\"Classification report:\")\n",
        "print(\"Accuracy: \", score_accuration)\n",
        "print(report)\n",
        "print(\"confusion matrix:\")\n",
        "print(cm)"
      ],
      "metadata": {
        "colab": {
          "base_uri": "https://localhost:8080/"
        },
        "outputId": "9523ac49-2a09-4c6f-988f-75ab7850dafb",
        "id": "uMiXbSUcfG8c"
      },
      "execution_count": null,
      "outputs": [
        {
          "output_type": "stream",
          "name": "stdout",
          "text": [
            "Classification report:\n",
            "Accuracy:  0.8444444444444444\n",
            "              precision    recall  f1-score   support\n",
            "\n",
            "           0       0.80      0.87      0.84       123\n",
            "           1       0.88      0.82      0.85       147\n",
            "\n",
            "    accuracy                           0.84       270\n",
            "   macro avg       0.84      0.85      0.84       270\n",
            "weighted avg       0.85      0.84      0.84       270\n",
            "\n",
            "confusion matrix:\n",
            "[[107  26]\n",
            " [ 16 121]]\n"
          ]
        }
      ]
    },
    {
      "cell_type": "markdown",
      "source": [
        "Dari hasil dapat dilihat nilai kinerja dari penggunaan metode SVM dengan menghitung nilai precision, recall, dan accuracy. Dimana pada class 0 untuk precision dengan nilai 0.80 recall dengan nilai 0.87, dan fscore dengan nilai 0.84.\n",
        "\n",
        "Sedangkan pada class 1 untuk precision dengan nilai 0.88, recall dengan nilai 0.82, dan fscore dengan nilai 0.85. \n",
        "\n",
        "Hasil pada akurasi model sudah mencapai tingkat yang cukup baik yaitu 84%.\n",
        "\n",
        "sedangkan berdasarkan matriksnya, 107 bernilai benar dan 26 bernilai salah.\n",
        "selanjutnya 16 bernilai salah dan 121 bernilai benar."
      ],
      "metadata": {
        "id": "x00agtTchGlp"
      }
    },
    {
      "cell_type": "code",
      "source": [
        "Y_train_pred=svc.predict(X_train)\n",
        "\n",
        "print(accuracy_score(Y_test,Y_pred))\n",
        "print(accuracy_score(Y_train,Y_train_pred))"
      ],
      "metadata": {
        "colab": {
          "base_uri": "https://localhost:8080/"
        },
        "outputId": "3074439b-2658-4089-df31-0e74e431a040",
        "id": "lYYDWFPyfG8f"
      },
      "execution_count": null,
      "outputs": [
        {
          "output_type": "stream",
          "name": "stdout",
          "text": [
            "0.8444444444444444\n",
            "0.8650793650793651\n"
          ]
        }
      ]
    },
    {
      "cell_type": "markdown",
      "source": [
        "# **RBF Kernel**"
      ],
      "metadata": {
        "id": "l2psBR8ve-Gs"
      }
    },
    {
      "cell_type": "code",
      "source": [
        "svc = SVC(kernel='rbf', C=1, probability=True)\n",
        "svc.fit(X_train, Y_train)\n",
        "Y_pred=svc.predict(X_test)\n",
        "\n",
        "score_accuration = accuracy_score(Y_test,Y_pred)\n",
        "report = classification_report(Y_pred, Y_test)\n",
        "cm = confusion_matrix(Y_test,Y_pred)\n",
        "\n",
        "print(\"Classification report:\")\n",
        "print(\"Accuracy: \", score_accuration)\n",
        "print(report)\n",
        "print(\"confusion matrix:\")\n",
        "print(cm)"
      ],
      "metadata": {
        "colab": {
          "base_uri": "https://localhost:8080/"
        },
        "id": "jvzFzqHmcj1K",
        "outputId": "0a9e6576-971b-4d2a-9f72-a23d0b946b70"
      },
      "execution_count": null,
      "outputs": [
        {
          "output_type": "stream",
          "name": "stdout",
          "text": [
            "Classification report:\n",
            "Accuracy:  0.8111111111111111\n",
            "              precision    recall  f1-score   support\n",
            "\n",
            "           0       0.91      0.76      0.83       160\n",
            "           1       0.72      0.89      0.79       110\n",
            "\n",
            "    accuracy                           0.81       270\n",
            "   macro avg       0.81      0.82      0.81       270\n",
            "weighted avg       0.83      0.81      0.81       270\n",
            "\n",
            "confusion matrix:\n",
            "[[121  12]\n",
            " [ 39  98]]\n"
          ]
        }
      ]
    },
    {
      "cell_type": "markdown",
      "source": [
        "Dari hasil dapat dilihat nilai kinerja dari penggunaan metode SVM dengan menghitung nilai precision, recall, dan accuracy. Dimana pada class 0 untuk precision dengan nilai 0.91 recall dengan nilai 0.76, dan fscore dengan nilai 0.83.\n",
        "\n",
        "Sedangkan pada class 1 untuk precision dengan nilai 0.72, recall dengan nilai 0.89, dan fscore dengan nilai 0.79. \n",
        "\n",
        "Hasil pada akurasi model sudah mencapai tingkat yang cukup baik yaitu 81%.\n",
        "\n",
        "sedangkan berdasarkan matriksnya, 121 bernilai benar dan 12 bernilai salah.\n",
        "selanjutnya 39 bernilai salah dan 98 bernilai benar."
      ],
      "metadata": {
        "id": "XdoXdCo6hi8d"
      }
    },
    {
      "cell_type": "code",
      "source": [
        "Y_train_pred=svc.predict(X_train)\n",
        "\n",
        "print(accuracy_score(Y_test,Y_pred))\n",
        "print(accuracy_score(Y_train,Y_train_pred))"
      ],
      "metadata": {
        "colab": {
          "base_uri": "https://localhost:8080/"
        },
        "id": "3Ru-b8yqdbxx",
        "outputId": "065c31a0-b7ab-444f-a289-29043d59e278"
      },
      "execution_count": null,
      "outputs": [
        {
          "output_type": "stream",
          "name": "stdout",
          "text": [
            "0.8111111111111111\n",
            "0.8222222222222222\n"
          ]
        }
      ]
    },
    {
      "cell_type": "markdown",
      "source": [
        "# **Poly Kernel**"
      ],
      "metadata": {
        "id": "jS3TqcIqfkmp"
      }
    },
    {
      "cell_type": "code",
      "source": [
        "svc = SVC(kernel='poly', C=1, probability=True)\n",
        "svc.fit(X_train, Y_train)\n",
        "Y_pred=svc.predict(X_test)\n",
        "\n",
        "score_accuration = accuracy_score(Y_test,Y_pred)\n",
        "report = classification_report(Y_pred, Y_test)\n",
        "cm = confusion_matrix(Y_test,Y_pred)\n",
        "\n",
        "print(\"Classification report:\")\n",
        "print(\"Accuracy: \", score_accuration)\n",
        "print(report)\n",
        "print(\"confusion matrix:\")\n",
        "print(cm)"
      ],
      "metadata": {
        "colab": {
          "base_uri": "https://localhost:8080/"
        },
        "outputId": "197c45ad-3d20-4702-d529-02da9521cf3f",
        "id": "sDfqqpjpfkmq"
      },
      "execution_count": null,
      "outputs": [
        {
          "output_type": "stream",
          "name": "stdout",
          "text": [
            "Classification report:\n",
            "Accuracy:  0.7925925925925926\n",
            "              precision    recall  f1-score   support\n",
            "\n",
            "           0       0.91      0.73      0.81       165\n",
            "           1       0.68      0.89      0.77       105\n",
            "\n",
            "    accuracy                           0.79       270\n",
            "   macro avg       0.79      0.81      0.79       270\n",
            "weighted avg       0.82      0.79      0.80       270\n",
            "\n",
            "confusion matrix:\n",
            "[[121  12]\n",
            " [ 44  93]]\n"
          ]
        }
      ]
    },
    {
      "cell_type": "markdown",
      "source": [
        "Dari hasil dapat dilihat nilai kinerja dari penggunaan metode SVM dengan menghitung nilai precision, recall, dan accuracy. Dimana pada class 0 untuk precision dengan nilai 0.91 recall dengan nilai 0.73, dan fscore dengan nilai 0.81.\n",
        "\n",
        "Sedangkan pada class 1 untuk precision dengan nilai 0.68, recall dengan nilai 0.89, dan fscore dengan nilai 0.77. \n",
        "\n",
        "Hasil pada akurasi model sudah mencapai tingkat yang cukup baik yaitu 79%.\n",
        "\n",
        "sedangkan berdasarkan matriksnya, 121 bernilai benar dan 12 bernilai salah.\n",
        "selanjutnya 44 bernilai salah dan 93 bernilai benar."
      ],
      "metadata": {
        "id": "-pjKa9WNhxj5"
      }
    },
    {
      "cell_type": "code",
      "source": [
        "Y_train_pred=svc.predict(X_train)\n",
        "\n",
        "print(accuracy_score(Y_test,Y_pred))\n",
        "print(accuracy_score(Y_train,Y_train_pred))"
      ],
      "metadata": {
        "colab": {
          "base_uri": "https://localhost:8080/"
        },
        "outputId": "c3746fe5-06be-474c-9ad6-9671c3e7d11d",
        "id": "5q2mdemxfkms"
      },
      "execution_count": null,
      "outputs": [
        {
          "output_type": "stream",
          "name": "stdout",
          "text": [
            "0.7925925925925926\n",
            "0.8206349206349206\n"
          ]
        }
      ]
    },
    {
      "cell_type": "markdown",
      "source": [
        "# **Sigmoid Kernel**"
      ],
      "metadata": {
        "id": "nRHYUbshfpyt"
      }
    },
    {
      "cell_type": "code",
      "source": [
        "svc = SVC(kernel='sigmoid', C=1, probability=True)\n",
        "svc.fit(X_train, Y_train)\n",
        "Y_pred=svc.predict(X_test)\n",
        "\n",
        "score_accuration = accuracy_score(Y_test,Y_pred)\n",
        "report = classification_report(Y_pred, Y_test)\n",
        "cm = confusion_matrix(Y_test,Y_pred)\n",
        "\n",
        "print(\"Classification report:\")\n",
        "print(\"Accuracy: \", score_accuration)\n",
        "print(report)\n",
        "print(\"confusion matrix:\")\n",
        "print(cm)"
      ],
      "metadata": {
        "colab": {
          "base_uri": "https://localhost:8080/"
        },
        "outputId": "55ecf070-fe77-43b4-b899-0de7a71f1946",
        "id": "yhDZXC7afpyu"
      },
      "execution_count": null,
      "outputs": [
        {
          "output_type": "stream",
          "name": "stdout",
          "text": [
            "Classification report:\n",
            "Accuracy:  0.2111111111111111\n",
            "              precision    recall  f1-score   support\n",
            "\n",
            "           0       0.18      0.19      0.18       128\n",
            "           1       0.24      0.23      0.24       142\n",
            "\n",
            "    accuracy                           0.21       270\n",
            "   macro avg       0.21      0.21      0.21       270\n",
            "weighted avg       0.21      0.21      0.21       270\n",
            "\n",
            "confusion matrix:\n",
            "[[ 24 109]\n",
            " [104  33]]\n"
          ]
        }
      ]
    },
    {
      "cell_type": "markdown",
      "source": [
        "Dari hasil dapat dilihat nilai kinerja dari penggunaan metode SVM dengan menghitung nilai precision, recall, dan accuracy. Dimana pada class 0 untuk precision dengan nilai 0.18 recall dengan nilai 0.19, dan fscore dengan nilai 0.18.\n",
        "\n",
        "Sedangkan pada class 1 untuk precision dengan nilai 0.24, recall dengan nilai 0.23, dan fscore dengan nilai 0.24. \n",
        "\n",
        "Hasil pada akurasi model sudah mencapai tingkat yang kurang baik yaitu 21%.\n",
        "\n",
        "sedangkan berdasarkan matriksnya, 24 bernilai benar dan 109 bernilai salah.\n",
        "selanjutnya 104 bernilai salah dan 33 bernilai benar."
      ],
      "metadata": {
        "id": "vB8IMwcsggvP"
      }
    },
    {
      "cell_type": "code",
      "source": [
        "Y_train_pred=svc.predict(X_train)\n",
        "\n",
        "print(accuracy_score(Y_test,Y_pred))\n",
        "print(accuracy_score(Y_train,Y_train_pred))"
      ],
      "metadata": {
        "colab": {
          "base_uri": "https://localhost:8080/"
        },
        "outputId": "b1abe885-590d-498b-a7a5-82ed11728c78",
        "id": "CX_AAVSlfpyw"
      },
      "execution_count": null,
      "outputs": [
        {
          "output_type": "stream",
          "name": "stdout",
          "text": [
            "0.2111111111111111\n",
            "0.22063492063492063\n"
          ]
        }
      ]
    },
    {
      "cell_type": "markdown",
      "source": [
        "# **Kesimpulan**"
      ],
      "metadata": {
        "id": "ddN2hLqkiU39"
      }
    },
    {
      "cell_type": "markdown",
      "source": [
        "Dari keempat jenis kernel, kernel terbaik dalah linear kernel dengan nilai akurasi tertinggi yaitu 84%."
      ],
      "metadata": {
        "id": "nqFjuPK6grOx"
      }
    }
  ]
}